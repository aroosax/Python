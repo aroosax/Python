{
  "nbformat": 4,
  "nbformat_minor": 0,
  "metadata": {
    "colab": {
      "provenance": [],
      "authorship_tag": "ABX9TyPKO5z53O66x7ze41epFQit",
      "include_colab_link": true
    },
    "kernelspec": {
      "name": "python3",
      "display_name": "Python 3"
    },
    "language_info": {
      "name": "python"
    }
  },
  "cells": [
    {
      "cell_type": "markdown",
      "metadata": {
        "id": "view-in-github",
        "colab_type": "text"
      },
      "source": [
        "<a href=\"https://colab.research.google.com/github/aroosax/Python/blob/main/BMI_Calculator.ipynb\" target=\"_parent\"><img src=\"https://colab.research.google.com/assets/colab-badge.svg\" alt=\"Open In Colab\"/></a>"
      ]
    },
    {
      "cell_type": "markdown",
      "source": [
        "BMI Calculator Program"
      ],
      "metadata": {
        "id": "KflyU8qk-ClM"
      }
    },
    {
      "cell_type": "code",
      "execution_count": 1,
      "metadata": {
        "colab": {
          "base_uri": "https://localhost:8080/"
        },
        "id": "QTQ7grCy98kX",
        "outputId": "4d495bfe-f6b7-4d3b-b932-d0a82a886bc2"
      },
      "outputs": [
        {
          "output_type": "stream",
          "name": "stdout",
          "text": [
            "Enter your height:5.2\n",
            "Enter your weight:45\n",
            "Your BMI is: 1.66\n",
            "You are underweight!\n"
          ]
        }
      ],
      "source": [
        "\"\"\"Description: This program asks for height and weight, calculate BMI, and show health status. BMI = weight /\n",
        "(height^2)\n",
        "Concepts Used: float(), if-else, math\"\"\"\n",
        "\n",
        "height = float(input(\"Enter your height:\"))\n",
        "weight = float(input(\"Enter your weight:\"))\n",
        "\n",
        "BMI = weight/(height**2)\n",
        "print(\"Your BMI is:\",round(BMI,2)) # round is used to round the number of BMI and 2 tells that only 2 places after decimal\n",
        "\n",
        "if BMI <= 18.5:\n",
        "  print(\"You are underweight!\")\n",
        "elif BMI == 24.99:\n",
        "  print(\"Your weight is normal!\")\n",
        "elif BMI == 29.99:\n",
        "  print(\"You are overweight!\")\n",
        "else:\n",
        "  print(\"You are Obese!\")"
      ]
    }
  ]
}