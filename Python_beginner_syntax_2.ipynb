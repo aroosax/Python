{
  "nbformat": 4,
  "nbformat_minor": 0,
  "metadata": {
    "colab": {
      "provenance": [],
      "authorship_tag": "ABX9TyM4UkdJ7ME6l69kun9kwmGM",
      "include_colab_link": true
    },
    "kernelspec": {
      "name": "python3",
      "display_name": "Python 3"
    },
    "language_info": {
      "name": "python"
    }
  },
  "cells": [
    {
      "cell_type": "markdown",
      "metadata": {
        "id": "view-in-github",
        "colab_type": "text"
      },
      "source": [
        "<a href=\"https://colab.research.google.com/github/aroosax/Python/blob/main/Python_beginner_syntax_2.ipynb\" target=\"_parent\"><img src=\"https://colab.research.google.com/assets/colab-badge.svg\" alt=\"Open In Colab\"/></a>"
      ]
    },
    {
      "cell_type": "markdown",
      "source": [
        "# Dictionaries Practice"
      ],
      "metadata": {
        "id": "yj7I-SsSDXkU"
      }
    },
    {
      "cell_type": "code",
      "execution_count": 30,
      "metadata": {
        "id": "V7y9kh5LDK-b"
      },
      "outputs": [],
      "source": [
        "# Practicing dictionaries\n",
        "dict_cream = {'name':'Aroosa Nasir', 'Weekly Intake': 5,'Favourite ice-cream':['mango','chocolate']}"
      ]
    },
    {
      "cell_type": "code",
      "source": [
        "# print the type\n",
        "type(dict_cream)"
      ],
      "metadata": {
        "colab": {
          "base_uri": "https://localhost:8080/"
        },
        "id": "F7diziLlEzBY",
        "outputId": "f6f0dac3-c2b6-4539-a9a3-6fbdb7f62918"
      },
      "execution_count": 3,
      "outputs": [
        {
          "output_type": "execute_result",
          "data": {
            "text/plain": [
              "dict"
            ]
          },
          "metadata": {},
          "execution_count": 3
        }
      ]
    },
    {
      "cell_type": "code",
      "source": [
        "# print the dictionary\n",
        "print(dict_cream)"
      ],
      "metadata": {
        "colab": {
          "base_uri": "https://localhost:8080/"
        },
        "id": "Rt-x-C_HKJtv",
        "outputId": "f77447c7-9ccf-45d3-b74e-4a361c02a844"
      },
      "execution_count": 4,
      "outputs": [
        {
          "output_type": "stream",
          "name": "stdout",
          "text": [
            "{'name': 'Aroosa Nasir', 'Weekly Intake': 5, 'Favourite ice-cream': ['mango', 'chocolate']}\n"
          ]
        }
      ]
    },
    {
      "cell_type": "code",
      "source": [
        "# printing the values of the dictionary\n",
        "dict_cream.values()"
      ],
      "metadata": {
        "colab": {
          "base_uri": "https://localhost:8080/"
        },
        "id": "amlajeVEKSnc",
        "outputId": "35af2cb9-90fd-4440-9c49-090c7a453a8e"
      },
      "execution_count": 6,
      "outputs": [
        {
          "output_type": "execute_result",
          "data": {
            "text/plain": [
              "dict_values(['Aroosa Nasir', 5, ['mango', 'chocolate']])"
            ]
          },
          "metadata": {},
          "execution_count": 6
        }
      ]
    },
    {
      "cell_type": "code",
      "source": [
        "#printing the keys of the dictionary\n",
        "dict_cream.keys()"
      ],
      "metadata": {
        "colab": {
          "base_uri": "https://localhost:8080/"
        },
        "id": "fzuuxf_DK10_",
        "outputId": "5ae91b6c-8122-4afa-d7c6-d98517230c0d"
      },
      "execution_count": 8,
      "outputs": [
        {
          "output_type": "execute_result",
          "data": {
            "text/plain": [
              "dict_keys(['name', 'Weekly Intake', 'Favourite ice-cream'])"
            ]
          },
          "metadata": {},
          "execution_count": 8
        }
      ]
    },
    {
      "cell_type": "code",
      "source": [
        "#printing the items of the dictionary\n",
        "dict_cream.items()"
      ],
      "metadata": {
        "colab": {
          "base_uri": "https://localhost:8080/"
        },
        "id": "R61PxRJ8Ls5U",
        "outputId": "f12c9443-2859-4e1b-8bb5-76860a85285f"
      },
      "execution_count": 9,
      "outputs": [
        {
          "output_type": "execute_result",
          "data": {
            "text/plain": [
              "dict_items([('name', 'Aroosa Nasir'), ('Weekly Intake', 5), ('Favourite ice-cream', ['mango', 'chocolate'])])"
            ]
          },
          "metadata": {},
          "execution_count": 9
        }
      ]
    },
    {
      "cell_type": "code",
      "source": [
        "#printing any one value from the dictionary\n",
        "dict_cream['name']"
      ],
      "metadata": {
        "colab": {
          "base_uri": "https://localhost:8080/",
          "height": 35
        },
        "id": "BMzYbd3mMo-y",
        "outputId": "d4da6939-45fa-45cc-c895-2ce63ba08481"
      },
      "execution_count": 20,
      "outputs": [
        {
          "output_type": "execute_result",
          "data": {
            "text/plain": [
              "'Aroosa Nasir'"
            ],
            "application/vnd.google.colaboratory.intrinsic+json": {
              "type": "string"
            }
          },
          "metadata": {},
          "execution_count": 20
        }
      ]
    },
    {
      "cell_type": "code",
      "source": [
        "#printing multiple values from the dictionary\n",
        "print(dict_cream['name'])\n",
        "print(dict_cream['Weekly Intake'])"
      ],
      "metadata": {
        "colab": {
          "base_uri": "https://localhost:8080/"
        },
        "id": "rfy_swyJM_nl",
        "outputId": "290cc60f-9851-4612-e1ac-3e290f8cf555"
      },
      "execution_count": 21,
      "outputs": [
        {
          "output_type": "stream",
          "name": "stdout",
          "text": [
            "Aroosa Nasir\n",
            "5\n"
          ]
        }
      ]
    },
    {
      "cell_type": "code",
      "source": [
        "# making any change into the dictionary\n",
        "dict_cream['name'] = 'Abdullah Nasir'\n",
        "print(dict_cream)"
      ],
      "metadata": {
        "colab": {
          "base_uri": "https://localhost:8080/"
        },
        "id": "bhIiwDLqNOd0",
        "outputId": "7c8b6f28-a57c-4bbe-f8f9-d17ca9d08271"
      },
      "execution_count": 23,
      "outputs": [
        {
          "output_type": "stream",
          "name": "stdout",
          "text": [
            "{'name': 'Abdullah Nasir', 'Weekly Intake': 5, 'Favourite ice-cream': ['mango', 'chocolate']}\n"
          ]
        }
      ]
    },
    {
      "cell_type": "code",
      "source": [
        "#Updating the dictionary\n",
        "dict_cream.update({'name':'Aroosa Nasir', 'Weekly Intake': 4,'Weight': 47})\n",
        "print(dict_cream)"
      ],
      "metadata": {
        "colab": {
          "base_uri": "https://localhost:8080/"
        },
        "id": "tDIc6MjdOMIb",
        "outputId": "95895b7c-bcae-4775-cc47-87c34551ac44"
      },
      "execution_count": 25,
      "outputs": [
        {
          "output_type": "stream",
          "name": "stdout",
          "text": [
            "{'name': 'Aroosa Nasir', 'Weekly Intake': 4, 'Favourite ice-cream': ['mango', 'chocolate'], 'Weight': 47}\n"
          ]
        }
      ]
    },
    {
      "cell_type": "code",
      "source": [
        "# deleting anything from the dictionary it can also delete the complete dictionary\n",
        "del dict_cream['Weight']\n",
        "print(dict_cream)"
      ],
      "metadata": {
        "colab": {
          "base_uri": "https://localhost:8080/"
        },
        "id": "B4vbQPUZO8_O",
        "outputId": "3d7ac20d-ea7c-4eed-bb27-56d522b68945"
      },
      "execution_count": 26,
      "outputs": [
        {
          "output_type": "stream",
          "name": "stdout",
          "text": [
            "{'name': 'Aroosa Nasir', 'Weekly Intake': 4, 'Favourite ice-cream': ['mango', 'chocolate']}\n"
          ]
        }
      ]
    },
    {
      "cell_type": "code",
      "source": [
        "#loop uisng dictionary\n",
        "for key, value in dict_cream.items():\n",
        "    print(f\"{key}: {value}\")"
      ],
      "metadata": {
        "colab": {
          "base_uri": "https://localhost:8080/"
        },
        "id": "JLYqcpicQHl6",
        "outputId": "4fb1d979-7770-4fda-b42f-34584c547692"
      },
      "execution_count": 27,
      "outputs": [
        {
          "output_type": "stream",
          "name": "stdout",
          "text": [
            "name: Aroosa Nasir\n",
            "Weekly Intake: 4\n",
            "Favourite ice-cream: ['mango', 'chocolate']\n"
          ]
        }
      ]
    },
    {
      "cell_type": "code",
      "source": [
        "# pop something from the list\n",
        "dict_cream.pop('name')\n",
        "print(dict_cream)"
      ],
      "metadata": {
        "colab": {
          "base_uri": "https://localhost:8080/"
        },
        "id": "vD6KmCk0QTGE",
        "outputId": "9d6aabb1-6d7f-478e-ed84-438c8ea6e260"
      },
      "execution_count": 28,
      "outputs": [
        {
          "output_type": "stream",
          "name": "stdout",
          "text": [
            "{'Weekly Intake': 4, 'Favourite ice-cream': ['mango', 'chocolate']}\n"
          ]
        }
      ]
    },
    {
      "cell_type": "code",
      "source": [
        "# clear function clears all the things in a dictionary\n",
        "dict_cream.clear()\n",
        "print(dict_cream)"
      ],
      "metadata": {
        "colab": {
          "base_uri": "https://localhost:8080/"
        },
        "id": "ra3rQt7_SSnw",
        "outputId": "49b1ba27-4c5a-49b0-cff8-de0dc025e0e1"
      },
      "execution_count": 29,
      "outputs": [
        {
          "output_type": "stream",
          "name": "stdout",
          "text": [
            "{}\n"
          ]
        }
      ]
    },
    {
      "cell_type": "code",
      "source": [
        "# using loops in a dictionary it prints all the keys\n",
        "for x in dict_cream:\n",
        "  print(x)"
      ],
      "metadata": {
        "colab": {
          "base_uri": "https://localhost:8080/"
        },
        "id": "u-aPokFATJMs",
        "outputId": "4e28f137-8ce2-471f-b72c-c26a6dc6e8c2"
      },
      "execution_count": 32,
      "outputs": [
        {
          "output_type": "stream",
          "name": "stdout",
          "text": [
            "name\n",
            "Weekly Intake\n",
            "Favourite ice-cream\n"
          ]
        }
      ]
    },
    {
      "cell_type": "code",
      "source": [
        "# printing the values\n",
        "for x in dict_cream:\n",
        "  print(dict_cream[x])"
      ],
      "metadata": {
        "colab": {
          "base_uri": "https://localhost:8080/"
        },
        "id": "MfRGO04oTejx",
        "outputId": "107c189e-58fa-4842-a498-a1684223d62e"
      },
      "execution_count": 33,
      "outputs": [
        {
          "output_type": "stream",
          "name": "stdout",
          "text": [
            "Aroosa Nasir\n",
            "5\n",
            "['mango', 'chocolate']\n"
          ]
        }
      ]
    },
    {
      "cell_type": "code",
      "source": [
        "#printing the values using a loop for a dictionary\n",
        "for x in dict_cream.values():\n",
        "  print(x)"
      ],
      "metadata": {
        "colab": {
          "base_uri": "https://localhost:8080/"
        },
        "id": "G2YzzqBsTuNd",
        "outputId": "ebe2939f-8c9a-4eca-af1a-25a6755b1c60"
      },
      "execution_count": 34,
      "outputs": [
        {
          "output_type": "stream",
          "name": "stdout",
          "text": [
            "Aroosa Nasir\n",
            "5\n",
            "['mango', 'chocolate']\n"
          ]
        }
      ]
    },
    {
      "cell_type": "code",
      "source": [
        "#printing the keys using a loop\n",
        "for x in dict_cream.keys():\n",
        "  print(x)"
      ],
      "metadata": {
        "colab": {
          "base_uri": "https://localhost:8080/"
        },
        "id": "7GOIrb2XT3l-",
        "outputId": "a60e4ffe-3218-41ee-9397-910d3917d6b3"
      },
      "execution_count": 35,
      "outputs": [
        {
          "output_type": "stream",
          "name": "stdout",
          "text": [
            "name\n",
            "Weekly Intake\n",
            "Favourite ice-cream\n"
          ]
        }
      ]
    },
    {
      "cell_type": "code",
      "source": [
        "#printing the items(key,value) uusing a loop\n",
        "for x in dict_cream.items():\n",
        "  print(x)"
      ],
      "metadata": {
        "colab": {
          "base_uri": "https://localhost:8080/"
        },
        "id": "FwxS7k7-T-ku",
        "outputId": "028a4e1d-896f-4e77-bf54-53e8889a900f"
      },
      "execution_count": 36,
      "outputs": [
        {
          "output_type": "stream",
          "name": "stdout",
          "text": [
            "('name', 'Aroosa Nasir')\n",
            "('Weekly Intake', 5)\n",
            "('Favourite ice-cream', ['mango', 'chocolate'])\n"
          ]
        }
      ]
    },
    {
      "cell_type": "code",
      "source": [
        "# copying a dictionary\n",
        "mydict = dict_cream.copy() # you can also use mydict = dict(dict_cream) and coppy the dictionary\n",
        "print(mydict)"
      ],
      "metadata": {
        "colab": {
          "base_uri": "https://localhost:8080/"
        },
        "id": "V5p81cdfUXbb",
        "outputId": "2e4d65f6-bcd7-4d5a-d78a-790b41f877a2"
      },
      "execution_count": 37,
      "outputs": [
        {
          "output_type": "stream",
          "name": "stdout",
          "text": [
            "{'name': 'Aroosa Nasir', 'Weekly Intake': 5, 'Favourite ice-cream': ['mango', 'chocolate']}\n"
          ]
        }
      ]
    },
    {
      "cell_type": "markdown",
      "source": [
        "# From here we have nested dictionaries"
      ],
      "metadata": {
        "id": "JtqMrlnWVRNS"
      }
    },
    {
      "cell_type": "code",
      "source": [
        "# nested dictionary\n",
        "myfamily = {\n",
        "    \"child1\": {\n",
        "        \"name\": \"Simran\",\n",
        "        \"year\": \"1999\"\n",
        "    },\n",
        "    \"child2\": {\n",
        "        \"name\": \"Ali\",\n",
        "        \"year\": 2002\n",
        "    },\n",
        "    \"child3\": {\n",
        "        \"name\": \"Noor\",\n",
        "        \"year\": \"2001\"\n",
        "    }\n",
        "}\n",
        "print(myfamily)"
      ],
      "metadata": {
        "colab": {
          "base_uri": "https://localhost:8080/"
        },
        "id": "kFH1JIafVWeF",
        "outputId": "1c2a9f5a-7ca2-448a-8511-b7a84a3e4856"
      },
      "execution_count": 39,
      "outputs": [
        {
          "output_type": "stream",
          "name": "stdout",
          "text": [
            "{'child1': {'name': 'Simran', 'year': '1999'}, 'child2': {'name': 'Ali', 'year': 2002}, 'child3': {'name': 'Noor', 'year': '2001'}}\n"
          ]
        }
      ]
    },
    {
      "cell_type": "code",
      "source": [
        "# creating 3 dictionaries and then merging them into one\n",
        "child1 = {\n",
        "    \"name\": \"Simran\",\n",
        "     \"year\": \"1999\"\n",
        "}\n",
        "child2 = {\n",
        "    \"name\": \"Ali\",\n",
        "    \"year\": 2002\n",
        "}\n",
        "child3 = {\n",
        "     \"name\": \"Noor\",\n",
        "      \"year\": \"2001\"\n",
        "}\n",
        "\n",
        "myfamily = {\n",
        "    \"child1\": child1,\n",
        "    \"child2\": child2,\n",
        "    \"child3\": child3\n",
        "}\n",
        "print(myfamily)\n"
      ],
      "metadata": {
        "colab": {
          "base_uri": "https://localhost:8080/"
        },
        "id": "vPJyT0vOWkjV",
        "outputId": "bd9cfaea-2589-4373-dc3d-bb8be1e22a7a"
      },
      "execution_count": 42,
      "outputs": [
        {
          "output_type": "stream",
          "name": "stdout",
          "text": [
            "{'child1': {'name': 'Simran', 'year': '1999'}, 'child2': {'name': 'Ali', 'year': 2002}, 'child3': {'name': 'Noor', 'year': '2001'}}\n"
          ]
        }
      ]
    },
    {
      "cell_type": "code",
      "source": [
        "#accessing anything from the nested list\n",
        "print(myfamily['child2']['name'])"
      ],
      "metadata": {
        "colab": {
          "base_uri": "https://localhost:8080/"
        },
        "id": "lHNKzKQXX-lx",
        "outputId": "bd4c358c-5c6b-43a0-b670-e981fb2c7cda"
      },
      "execution_count": 43,
      "outputs": [
        {
          "output_type": "stream",
          "name": "stdout",
          "text": [
            "Ali\n"
          ]
        }
      ]
    },
    {
      "cell_type": "code",
      "source": [
        "# looping through all the keys and values from the nested dictionaries\n",
        "for x, obj in myfamily.items():\n",
        "  print(x)\n",
        "\n",
        "  for y in obj:\n",
        "    print(y + ':', obj[y])"
      ],
      "metadata": {
        "colab": {
          "base_uri": "https://localhost:8080/"
        },
        "id": "f_QkTrwqYSem",
        "outputId": "405cf1ef-7319-4b5c-c829-d2f866d2277c"
      },
      "execution_count": 47,
      "outputs": [
        {
          "output_type": "stream",
          "name": "stdout",
          "text": [
            "child1\n",
            "name: Simran\n",
            "year: 1999\n",
            "child2\n",
            "name: Ali\n",
            "year: 2002\n",
            "child3\n",
            "name: Noor\n",
            "year: 2001\n"
          ]
        }
      ]
    }
  ]
}