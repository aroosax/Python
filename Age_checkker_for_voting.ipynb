{
  "nbformat": 4,
  "nbformat_minor": 0,
  "metadata": {
    "colab": {
      "provenance": [],
      "authorship_tag": "ABX9TyPNL1QPBpgN3620t/TiGVYL",
      "include_colab_link": true
    },
    "kernelspec": {
      "name": "python3",
      "display_name": "Python 3"
    },
    "language_info": {
      "name": "python"
    }
  },
  "cells": [
    {
      "cell_type": "markdown",
      "metadata": {
        "id": "view-in-github",
        "colab_type": "text"
      },
      "source": [
        "<a href=\"https://colab.research.google.com/github/aroosax/Python/blob/main/Age_checkker_for_voting.ipynb\" target=\"_parent\"><img src=\"https://colab.research.google.com/assets/colab-badge.svg\" alt=\"Open In Colab\"/></a>"
      ]
    },
    {
      "cell_type": "markdown",
      "source": [
        "Age checkker for voting program"
      ],
      "metadata": {
        "id": "VObzafD0B4Wn"
      }
    },
    {
      "cell_type": "code",
      "execution_count": 3,
      "metadata": {
        "colab": {
          "base_uri": "https://localhost:8080/"
        },
        "id": "4Vk0gpbXBp7i",
        "outputId": "9faeafdc-231e-4b7a-b508-c57b54f8290f"
      },
      "outputs": [
        {
          "output_type": "stream",
          "name": "stdout",
          "text": [
            "Enter your age:12\n",
            "You are too young to vote!\n"
          ]
        }
      ],
      "source": [
        "\"\"\"Description: This program asks the user for their age. If age >= 18 Eligible to vote, else not.\n",
        "Concepts Used: if-else, int()\"\"\"\n",
        "\n",
        "age = int(input(\"Enter your age:\"))\n",
        "if age >= 18:\n",
        "  print(\"Eligible to vote!\")\n",
        "else:\n",
        "  print(\"You are too young to vote!\")"
      ]
    }
  ]
}