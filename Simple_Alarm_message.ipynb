{
  "nbformat": 4,
  "nbformat_minor": 0,
  "metadata": {
    "colab": {
      "provenance": [],
      "authorship_tag": "ABX9TyOUsQJ6b2u2LbR5/flSqMgO",
      "include_colab_link": true
    },
    "kernelspec": {
      "name": "python3",
      "display_name": "Python 3"
    },
    "language_info": {
      "name": "python"
    }
  },
  "cells": [
    {
      "cell_type": "markdown",
      "metadata": {
        "id": "view-in-github",
        "colab_type": "text"
      },
      "source": [
        "<a href=\"https://colab.research.google.com/github/aroosax/Python/blob/main/Simple_Alarm_message.ipynb\" target=\"_parent\"><img src=\"https://colab.research.google.com/assets/colab-badge.svg\" alt=\"Open In Colab\"/></a>"
      ]
    },
    {
      "cell_type": "markdown",
      "source": [
        "Simple Alarm Message Program"
      ],
      "metadata": {
        "id": "bypinmu_Az8p"
      }
    },
    {
      "cell_type": "code",
      "execution_count": 2,
      "metadata": {
        "colab": {
          "base_uri": "https://localhost:8080/"
        },
        "id": "yimj28aUAfi4",
        "outputId": "0b1d6abe-d9eb-4bb9-8e8b-f1ea43ef29d5"
      },
      "outputs": [
        {
          "output_type": "stream",
          "name": "stdout",
          "text": [
            "Enter time:6\n",
            "Keep Sleeping\n"
          ]
        }
      ],
      "source": [
        "\"\"\"Description: This program asks the user to enter a time (like 7), and if it's 7, print \"Wake up!\"\n",
        "Concepts Used: input(), int(), if\"\"\"\n",
        "\n",
        "wake_up_time = 7\n",
        "time = int(input(\"Enter time:\"))\n",
        "if wake_up_time == time:\n",
        "  print(\"Wake up. Good morning!\")\n",
        "else:\n",
        "  print(\"Keep Sleeping\")"
      ]
    }
  ]
}