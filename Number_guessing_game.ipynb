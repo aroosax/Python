{
  "nbformat": 4,
  "nbformat_minor": 0,
  "metadata": {
    "colab": {
      "provenance": [],
      "authorship_tag": "ABX9TyNjlwVPLw4A4ND5INQtf2FZ",
      "include_colab_link": true
    },
    "kernelspec": {
      "name": "python3",
      "display_name": "Python 3"
    },
    "language_info": {
      "name": "python"
    }
  },
  "cells": [
    {
      "cell_type": "markdown",
      "metadata": {
        "id": "view-in-github",
        "colab_type": "text"
      },
      "source": [
        "<a href=\"https://colab.research.google.com/github/aroosax/Python/blob/main/Number_guessing_game.ipynb\" target=\"_parent\"><img src=\"https://colab.research.google.com/assets/colab-badge.svg\" alt=\"Open In Colab\"/></a>"
      ]
    },
    {
      "cell_type": "markdown",
      "source": [
        "Number Guessing game program"
      ],
      "metadata": {
        "id": "ZrNzWyaMI8-k"
      }
    },
    {
      "cell_type": "code",
      "execution_count": 1,
      "metadata": {
        "colab": {
          "base_uri": "https://localhost:8080/"
        },
        "id": "A3VGbMWiIsVM",
        "outputId": "87e72719-0acb-4c71-f595-31d8e1dd7a37"
      },
      "outputs": [
        {
          "output_type": "stream",
          "name": "stdout",
          "text": [
            "Enter a number between 1 and 100:55\n",
            "Too High!\n"
          ]
        }
      ],
      "source": [
        "\"\"\"Description: The program picks a random number between 1-100. You guess the number, and it\n",
        "tells you if your guess is too high or too low. You win when you guess it right.\n",
        "Concepts Used: input(), if-else, random\"\"\"\n",
        "\n",
        "import random\n",
        "secret_number = random.randint(1,100)\n",
        "guess = int(input(\"Enter a number between 1 and 100:\"))\n",
        "if guess > secret_number:\n",
        "  print(\"Too High!\")\n",
        "elif guess < secret_number:\n",
        "  print(\"Too Low!\")\n",
        "else:\n",
        "  print(\"Congratulations! you guessed it right\")"
      ]
    }
  ]
}