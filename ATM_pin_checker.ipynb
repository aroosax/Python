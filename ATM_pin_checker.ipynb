{
  "nbformat": 4,
  "nbformat_minor": 0,
  "metadata": {
    "colab": {
      "provenance": [],
      "authorship_tag": "ABX9TyMJUxBbLCFN/GpOlbcdIief",
      "include_colab_link": true
    },
    "kernelspec": {
      "name": "python3",
      "display_name": "Python 3"
    },
    "language_info": {
      "name": "python"
    }
  },
  "cells": [
    {
      "cell_type": "markdown",
      "metadata": {
        "id": "view-in-github",
        "colab_type": "text"
      },
      "source": [
        "<a href=\"https://colab.research.google.com/github/aroosax/Python/blob/main/ATM_pin_checker.ipynb\" target=\"_parent\"><img src=\"https://colab.research.google.com/assets/colab-badge.svg\" alt=\"Open In Colab\"/></a>"
      ]
    },
    {
      "cell_type": "markdown",
      "source": [
        "ATM PIN Checker program"
      ],
      "metadata": {
        "id": "l4Iy3FeU2CUy"
      }
    },
    {
      "cell_type": "code",
      "execution_count": 3,
      "metadata": {
        "colab": {
          "base_uri": "https://localhost:8080/"
        },
        "id": "165m8dyX13CA",
        "outputId": "52f9440d-f4b2-49ac-a20d-45d524241369"
      },
      "outputs": [
        {
          "output_type": "stream",
          "name": "stdout",
          "text": [
            "Enter the pin :1234\n",
            "No Access Allowed!\n"
          ]
        }
      ],
      "source": [
        "\"\"\"Description: This program asks user to enter a PIN. Check if it matches a stored PIN. If yes, allow access. If not,\n",
        "deny.\n",
        "Concepts Used: input(), if-else\"\"\"\n",
        "stored_pin = 5862\n",
        "entered_pin = int(input(\"Enter the pin :\"))\n",
        "if stored_pin == entered_pin:\n",
        "  print(\"Correct password! Access allowed.\")\n",
        "else:\n",
        "  print(\"No Access Allowed!\")"
      ]
    }
  ]
}