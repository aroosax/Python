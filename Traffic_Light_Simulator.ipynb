{
  "nbformat": 4,
  "nbformat_minor": 0,
  "metadata": {
    "colab": {
      "provenance": [],
      "authorship_tag": "ABX9TyMu6mpeZyIKXtg+8TtHLNJU",
      "include_colab_link": true
    },
    "kernelspec": {
      "name": "python3",
      "display_name": "Python 3"
    },
    "language_info": {
      "name": "python"
    }
  },
  "cells": [
    {
      "cell_type": "markdown",
      "metadata": {
        "id": "view-in-github",
        "colab_type": "text"
      },
      "source": [
        "<a href=\"https://colab.research.google.com/github/aroosax/Python/blob/main/Traffic_Light_Simulator.ipynb\" target=\"_parent\"><img src=\"https://colab.research.google.com/assets/colab-badge.svg\" alt=\"Open In Colab\"/></a>"
      ]
    },
    {
      "cell_type": "markdown",
      "source": [
        "Traffic Light Simulator Program"
      ],
      "metadata": {
        "id": "5IOFezrz5X8Y"
      }
    },
    {
      "cell_type": "code",
      "execution_count": 9,
      "metadata": {
        "colab": {
          "base_uri": "https://localhost:8080/"
        },
        "id": "38QZxZSs5R7r",
        "outputId": "3b64f3ee-2e7e-4746-ad0c-3e1846b08d33"
      },
      "outputs": [
        {
          "output_type": "stream",
          "name": "stdout",
          "text": [
            "Enter a traffic colour (red, yellow, green):green\n",
            "GO!\n"
          ]
        }
      ],
      "source": [
        "\"\"\"Description: This program asks the user to enter a color (red, yellow, green). Print the action: 'Stop', 'Get Ready',\n",
        "'Go'.\n",
        "Concepts Used: input(), if-elif-else\"\"\"\n",
        "\n",
        "Colour = str(input(\"Enter a traffic colour (red, yellow, green):\")).lower()\n",
        "\n",
        "if Colour == \"red\":\n",
        "  print(\"Stop!\")\n",
        "elif Colour == \"yellow\":\n",
        "  print(\"Get Ready!\")\n",
        "elif Colour == \"green\":\n",
        "  print(\"GO!\")\n",
        "else:\n",
        "  print(\"Invalid Colour!\")"
      ]
    }
  ]
}