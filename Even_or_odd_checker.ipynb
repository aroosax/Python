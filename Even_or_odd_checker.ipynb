{
  "nbformat": 4,
  "nbformat_minor": 0,
  "metadata": {
    "colab": {
      "provenance": [],
      "authorship_tag": "ABX9TyNb4i9Z/1txnkGJvyVMM1QR",
      "include_colab_link": true
    },
    "kernelspec": {
      "name": "python3",
      "display_name": "Python 3"
    },
    "language_info": {
      "name": "python"
    }
  },
  "cells": [
    {
      "cell_type": "markdown",
      "metadata": {
        "id": "view-in-github",
        "colab_type": "text"
      },
      "source": [
        "<a href=\"https://colab.research.google.com/github/aroosax/Python/blob/main/Even_or_odd_checker.ipynb\" target=\"_parent\"><img src=\"https://colab.research.google.com/assets/colab-badge.svg\" alt=\"Open In Colab\"/></a>"
      ]
    },
    {
      "cell_type": "markdown",
      "source": [
        "Even or Odd Checker Program"
      ],
      "metadata": {
        "id": "-vDBm2u6zAgq"
      }
    },
    {
      "cell_type": "code",
      "execution_count": 2,
      "metadata": {
        "colab": {
          "base_uri": "https://localhost:8080/"
        },
        "id": "SizRdy9zy-VS",
        "outputId": "4a4b24f1-672c-4721-a262-cb4eeefc2734"
      },
      "outputs": [
        {
          "output_type": "stream",
          "name": "stdout",
          "text": [
            "Enter a number:9\n",
            "The number is odd\n"
          ]
        }
      ],
      "source": [
        "\"\"\"Description:This program asks user for a number and tell whether it is even or odd.\n",
        "Concepts Used: % operator, if-else\"\"\"\n",
        "a = int(input(\"Enter a number:\"))\n",
        "if a % 2 == 0:\n",
        "  print(\"The number is even\")\n",
        "else:\n",
        "  print(\"The number is odd\")"
      ]
    }
  ]
}