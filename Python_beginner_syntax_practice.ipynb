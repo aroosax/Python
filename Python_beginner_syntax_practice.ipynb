{
  "nbformat": 4,
  "nbformat_minor": 0,
  "metadata": {
    "colab": {
      "provenance": [],
      "authorship_tag": "ABX9TyN3FOrCBj+PzgYLqXuKcDfJ",
      "include_colab_link": true
    },
    "kernelspec": {
      "name": "python3",
      "display_name": "Python 3"
    },
    "language_info": {
      "name": "python"
    }
  },
  "cells": [
    {
      "cell_type": "markdown",
      "metadata": {
        "id": "view-in-github",
        "colab_type": "text"
      },
      "source": [
        "<a href=\"https://colab.research.google.com/github/aroosax/Python/blob/main/Python_beginner_syntax_practice.ipynb\" target=\"_parent\"><img src=\"https://colab.research.google.com/assets/colab-badge.svg\" alt=\"Open In Colab\"/></a>"
      ]
    },
    {
      "cell_type": "markdown",
      "source": [
        "Python syntax practice for beginners"
      ],
      "metadata": {
        "id": "OnGvcbdOZny3"
      }
    },
    {
      "cell_type": "code",
      "execution_count": null,
      "metadata": {
        "colab": {
          "base_uri": "https://localhost:8080/"
        },
        "id": "-KYxftDb-nyA",
        "outputId": "261c85cb-00a5-4035-e9d6-a40c414e5f74"
      },
      "outputs": [
        {
          "output_type": "stream",
          "name": "stdout",
          "text": [
            "what is your name Aroosa\n",
            "My name is  Aroosa hello!\n"
          ]
        }
      ],
      "source": [
        "# Learning input and string\n",
        "name = input(\"what is your name \")\n",
        "print(\"My name is \",name,\"hello!\");"
      ]
    },
    {
      "cell_type": "code",
      "source": [
        "# Learning about variables and how to assign them values\n",
        "s = \"Bob\"\n",
        "print(s)\n",
        "\n",
        "a = \"Aroosa\"\n",
        "age = 24\n",
        "city = \"Rawalpindi\"\n",
        "print(a,age,city)"
      ],
      "metadata": {
        "colab": {
          "base_uri": "https://localhost:8080/"
        },
        "id": "lqLuSzXk-rRn",
        "outputId": "7faf0fdb-34fc-4fd1-96e9-75bac4cf6c6c"
      },
      "execution_count": null,
      "outputs": [
        {
          "output_type": "stream",
          "name": "stdout",
          "text": [
            "Bob\n",
            "Aroosa 24 Rawalpindi\n"
          ]
        }
      ]
    },
    {
      "cell_type": "code",
      "source": [
        "# using the split function\n",
        "x,y = input(\"Enter two values\").split()\n",
        "print(\"Enter number of boys =\",x)\n",
        "print(\"Enter number of girls =\",y)\n",
        "\n",
        "x,y,z = input(\"Enter three values\").split()\n",
        "print(\"Enter number of total students\",x)\n",
        "print(\"Enter number of boys\",y)\n",
        "print(\"Enter number of girls\",z)"
      ],
      "metadata": {
        "colab": {
          "base_uri": "https://localhost:8080/"
        },
        "id": "xoBbLGgcA_El",
        "outputId": "b2fd7b2a-254d-439c-86f2-52b49718a7fe"
      },
      "execution_count": null,
      "outputs": [
        {
          "output_type": "stream",
          "name": "stdout",
          "text": [
            "Enter two values1 2\n",
            "Enter number of boys = 1\n",
            "Enter number of girls = 2\n",
            "Enter three values1 2 3\n",
            "Enter number of total students 1\n",
            "Enter number of boys 2\n",
            "Enter number of girls 3\n"
          ]
        }
      ]
    },
    {
      "cell_type": "code",
      "source": [
        "# learning if, elif,elseif and else\n",
        "age_input = input(\"Enter your age =\")\n",
        "age = int(age_input)\n",
        "\n",
        "if age < 0:\n",
        "        print(\"Please enter valid age.\")\n",
        "elif age < 18:\n",
        "        print(\"You are a minor\")\n",
        "elif age >= 18 and age < 60:\n",
        "        print(\"You are an adult\")\n",
        "else:\n",
        "        print(\"You are a senior citizen\")"
      ],
      "metadata": {
        "colab": {
          "base_uri": "https://localhost:8080/"
        },
        "id": "HzsdUhcfDEVJ",
        "outputId": "32e04272-78b7-435d-f166-9c4eb72bf4a8"
      },
      "execution_count": null,
      "outputs": [
        {
          "output_type": "stream",
          "name": "stdout",
          "text": [
            "Enter your age =17\n",
            "You are a minor\n"
          ]
        }
      ]
    },
    {
      "cell_type": "code",
      "source": [
        "# determining color of the rose\n",
        "color = input(\"what color is rose \")\n",
        "print(color)\n",
        "# determining number of roses\n",
        "number = int(input(\"How many number of roses\"))\n",
        "print(number)"
      ],
      "metadata": {
        "colab": {
          "base_uri": "https://localhost:8080/"
        },
        "id": "MNsjTD4dExMp",
        "outputId": "fee972df-8241-4352-d325-07c34bf61b1d"
      },
      "execution_count": null,
      "outputs": [
        {
          "output_type": "stream",
          "name": "stdout",
          "text": [
            "what color is rose red\n",
            "red\n",
            "How many number of roses4\n",
            "4\n"
          ]
        }
      ]
    },
    {
      "cell_type": "code",
      "source": [
        "#Learning about data types\n",
        "price = float(input(\"Enter the price of rose \"))\n",
        "print(price)"
      ],
      "metadata": {
        "colab": {
          "base_uri": "https://localhost:8080/"
        },
        "id": "-TtM6gFxGfYX",
        "outputId": "dbe76854-3bde-4848-c0b0-3e4e47584da5"
      },
      "execution_count": null,
      "outputs": [
        {
          "output_type": "stream",
          "name": "stdout",
          "text": [
            "Enter the price of rose 22.10\n",
            "22.1\n"
          ]
        }
      ]
    },
    {
      "cell_type": "code",
      "source": [
        "# Thiis is how to find datatypes of variables\n",
        "a = \"Hello Wolrd\"\n",
        "b = 10\n",
        "c = 11.22\n",
        "d = (\"Geeks\",\"for\",\"Geeks\")\n",
        "e = [\"Geeks\",\"for\",\"Geeks\"]\n",
        "f = {\"Geeks\":1,\"for\":2,\"Geeks\":3}\n",
        "\n",
        "print(type(a))\n",
        "print(type(b))\n",
        "print(type(c))\n",
        "print(type(d))\n",
        "print(type(e))\n",
        "print(type(f))"
      ],
      "metadata": {
        "colab": {
          "base_uri": "https://localhost:8080/"
        },
        "id": "vXoOwyRxHmrt",
        "outputId": "a07c4856-9652-4919-bcab-32ede8c6d29a"
      },
      "execution_count": null,
      "outputs": [
        {
          "output_type": "stream",
          "name": "stdout",
          "text": [
            "<class 'str'>\n",
            "<class 'int'>\n",
            "<class 'float'>\n",
            "<class 'tuple'>\n",
            "<class 'list'>\n",
            "<class 'dict'>\n"
          ]
        }
      ]
    },
    {
      "cell_type": "code",
      "source": [
        "# Learning how to use f in printing\n",
        "amount = 150.12\n",
        "print(\"amout $\",amount)\n",
        "\n",
        "name = \"Aroosa\"\n",
        "age = 24\n",
        "print(f\"Hello! My name is {name} and I'm {age} years old\")"
      ],
      "metadata": {
        "colab": {
          "base_uri": "https://localhost:8080/"
        },
        "id": "b2-1-EGrJaOB",
        "outputId": "075d313a-6ad8-4ee4-821d-c8aed0602b0b"
      },
      "execution_count": null,
      "outputs": [
        {
          "output_type": "stream",
          "name": "stdout",
          "text": [
            "amout $ 150.12\n",
            "Hello! My name is Aroosa and I'm 24 years old\n"
          ]
        }
      ]
    },
    {
      "cell_type": "code",
      "source": [
        "# changing the datatype of a variable\n",
        "a = \"5\"\n",
        "b = int(a)\n",
        "print(b +2)"
      ],
      "metadata": {
        "colab": {
          "base_uri": "https://localhost:8080/"
        },
        "id": "op-37J6fLtpF",
        "outputId": "f6eda472-aff0-4e4f-a8d0-fdb08026a034"
      },
      "execution_count": null,
      "outputs": [
        {
          "output_type": "stream",
          "name": "stdout",
          "text": [
            "7\n"
          ]
        }
      ]
    },
    {
      "cell_type": "code",
      "source": [
        "# Learning about if else\n",
        "marks = int(input(\"Enter your marks\"))\n",
        "if marks >= 90:\n",
        "          print(\"Your Grade is A\")\n",
        "elif marks >= 75:\n",
        "          print(\"Your Grade is B\")\n",
        "else:\n",
        "          print(\"You need to improve your grades\")"
      ],
      "metadata": {
        "colab": {
          "base_uri": "https://localhost:8080/"
        },
        "id": "bPbJco07MYAP",
        "outputId": "7148e56c-5f03-4672-f3d9-e1e3f1890fcf"
      },
      "execution_count": null,
      "outputs": [
        {
          "output_type": "stream",
          "name": "stdout",
          "text": [
            "Enter your marks92\n",
            "Your Grade is A\n"
          ]
        }
      ]
    },
    {
      "cell_type": "code",
      "source": [
        "#slicing example\n",
        "text = \"AROOSANASIR\"\n",
        "print(text[2])\n",
        "print(text[10])\n",
        "#omitting start or end\n",
        "print(text[:2])\n",
        "print(text[4:])\n",
        "# using step\n",
        "print(text[::2])\n",
        "# reversing the string\n",
        "print(text[::-1])\n"
      ],
      "metadata": {
        "colab": {
          "base_uri": "https://localhost:8080/"
        },
        "id": "W27gO0N6Fyit",
        "outputId": "7ac554cd-d2af-4943-dc22-b63029fb7ab0"
      },
      "execution_count": null,
      "outputs": [
        {
          "output_type": "stream",
          "name": "stdout",
          "text": [
            "O\n",
            "R\n",
            "AR\n",
            "SANASIR\n",
            "AOSNSR\n",
            "RISANASOORA\n"
          ]
        }
      ]
    },
    {
      "cell_type": "code",
      "source": [
        "#for loop\n",
        "for i in range(5):\n",
        "  print(i)\n",
        "# for loop example 2\n",
        "integers = [1,2,3,4,5]\n",
        "for numbers in integers:\n",
        "  print(numbers)\n",
        "# we can also use something else to print\n",
        "integers = [1,2,3,4,5]\n",
        "for number in integers:\n",
        "  print('yep!')\n"
      ],
      "metadata": {
        "colab": {
          "base_uri": "https://localhost:8080/"
        },
        "id": "GdH8Smg_JBW5",
        "outputId": "5db62717-7098-4e72-ec53-26a3e44c1802"
      },
      "execution_count": null,
      "outputs": [
        {
          "output_type": "stream",
          "name": "stdout",
          "text": [
            "0\n",
            "1\n",
            "2\n",
            "3\n",
            "4\n",
            "1\n",
            "2\n",
            "3\n",
            "4\n",
            "5\n",
            "yep!\n",
            "yep!\n",
            "yep!\n",
            "yep!\n",
            "yep!\n"
          ]
        }
      ]
    },
    {
      "cell_type": "code",
      "source": [
        "# for loop another example\n",
        "integers = [1,2,3,4,5]\n",
        "for i in integers:\n",
        "    print(i+i)"
      ],
      "metadata": {
        "colab": {
          "base_uri": "https://localhost:8080/"
        },
        "id": "MC0_A0m5MgDI",
        "outputId": "5a55f00c-2603-4ed7-af51-f522543b77bc"
      },
      "execution_count": null,
      "outputs": [
        {
          "output_type": "stream",
          "name": "stdout",
          "text": [
            "2\n",
            "4\n",
            "6\n",
            "8\n",
            "10\n"
          ]
        }
      ]
    },
    {
      "cell_type": "code",
      "source": [
        "# for loop in dictionary\n",
        "ice_cream_dict = {'name': 'Aroosa Nasir', 'weekly intake': 5, 'Favourite icecreams': ['mango','Kulfa']}\n",
        "for cream in ice_cream_dict.values():\n",
        "    print(cream)"
      ],
      "metadata": {
        "colab": {
          "base_uri": "https://localhost:8080/"
        },
        "id": "IJI0F8jFNBfk",
        "outputId": "2d7eb3b6-8c6a-45ce-ef6b-03666c6dd539"
      },
      "execution_count": null,
      "outputs": [
        {
          "output_type": "stream",
          "name": "stdout",
          "text": [
            "Aroosa Nasir\n",
            "5\n",
            "['mango', 'Kulfa']\n"
          ]
        }
      ]
    },
    {
      "cell_type": "code",
      "source": [
        "# for loop in dictionary for key abd value bith\n",
        "ice_cream_dict = {'name': 'Aroosa Nasir', 'weekly intake': 5, 'Favourite icecreams': ['mango','Kulfa']}\n",
        "for key,value in ice_cream_dict.items():\n",
        "    print(key, \"=\",value)"
      ],
      "metadata": {
        "colab": {
          "base_uri": "https://localhost:8080/"
        },
        "id": "qToP6mtzOLlu",
        "outputId": "cbb29372-56e5-48de-cf28-84f740a51765"
      },
      "execution_count": null,
      "outputs": [
        {
          "output_type": "stream",
          "name": "stdout",
          "text": [
            "name = Aroosa Nasir\n",
            "weekly intake = 5\n",
            "Favourite icecreams = ['mango', 'Kulfa']\n"
          ]
        }
      ]
    },
    {
      "cell_type": "code",
      "source": [
        "# nested for loop\n",
        "flavour = ['Mango','Pista','Chocolate']\n",
        "toppings = ['sprinkles','Hot fudge','Marshmellows']\n",
        "for one in flavour:\n",
        "  for two in toppings:\n",
        "      print(one, 'with toppings',two)"
      ],
      "metadata": {
        "colab": {
          "base_uri": "https://localhost:8080/"
        },
        "id": "QgIR2OdmQYLh",
        "outputId": "2ba94706-6009-4af7-f6d9-ee17ec1a70ee"
      },
      "execution_count": null,
      "outputs": [
        {
          "output_type": "stream",
          "name": "stdout",
          "text": [
            "Mango with toppings sprinkles\n",
            "Mango with toppings Hot fudge\n",
            "Mango with toppings Marshmellows\n",
            "Pista with toppings sprinkles\n",
            "Pista with toppings Hot fudge\n",
            "Pista with toppings Marshmellows\n",
            "Chocolate with toppings sprinkles\n",
            "Chocolate with toppings Hot fudge\n",
            "Chocolate with toppings Marshmellows\n"
          ]
        }
      ]
    },
    {
      "cell_type": "code",
      "source": [
        "# for loops learned in class\n",
        "for char in \"Aroosa\":\n",
        "    print(char)\n",
        "#loop 2\n",
        "for char in \"AroosaNasir\":\n",
        "    if char == 'a':\n",
        "        print(char)"
      ],
      "metadata": {
        "colab": {
          "base_uri": "https://localhost:8080/"
        },
        "id": "4FcrUZ4fRSAI",
        "outputId": "2af5bf1d-f322-40f7-edc5-184384c55492"
      },
      "execution_count": null,
      "outputs": [
        {
          "output_type": "stream",
          "name": "stdout",
          "text": [
            "A\n",
            "r\n",
            "o\n",
            "o\n",
            "s\n",
            "a\n",
            "a\n",
            "a\n"
          ]
        }
      ]
    },
    {
      "cell_type": "code",
      "source": [
        "#while loop\n",
        "number = 0\n",
        "while number <=5:\n",
        "      print(number)\n",
        "      number = number+ 1"
      ],
      "metadata": {
        "colab": {
          "base_uri": "https://localhost:8080/"
        },
        "id": "5WIPiPnMTg4y",
        "outputId": "8f90f97e-bd5f-40c4-b2c1-1caaba1114f7"
      },
      "execution_count": null,
      "outputs": [
        {
          "output_type": "stream",
          "name": "stdout",
          "text": [
            "0\n",
            "1\n",
            "2\n",
            "3\n",
            "4\n",
            "5\n"
          ]
        }
      ]
    },
    {
      "cell_type": "code",
      "source": [
        "# while loop with break statement\n",
        "number = 0\n",
        "while number <=5:\n",
        "    print(number)\n",
        "    if number == 3:\n",
        "      break\n",
        "    number = number + 1"
      ],
      "metadata": {
        "colab": {
          "base_uri": "https://localhost:8080/"
        },
        "id": "sKxnvt3PUJ3x",
        "outputId": "5d51e453-efac-4526-d86a-95591cbf7957"
      },
      "execution_count": null,
      "outputs": [
        {
          "output_type": "stream",
          "name": "stdout",
          "text": [
            "0\n",
            "1\n",
            "2\n",
            "3\n"
          ]
        }
      ]
    },
    {
      "cell_type": "code",
      "source": [
        "#else if statement in while loop\n",
        "i = 0\n",
        "while i in range(10):\n",
        "    print(i)\n",
        "    if i == 5:\n",
        "      break\n",
        "    i = i + 1\n",
        "else:\n",
        "    print(\"Number is out of range\")\n"
      ],
      "metadata": {
        "colab": {
          "base_uri": "https://localhost:8080/"
        },
        "id": "bPI6iA9VU73a",
        "outputId": "0c36e6a1-d019-465f-85e3-311c31e79731"
      },
      "execution_count": null,
      "outputs": [
        {
          "output_type": "stream",
          "name": "stdout",
          "text": [
            "0\n",
            "1\n",
            "2\n",
            "3\n",
            "4\n",
            "5\n"
          ]
        }
      ]
    },
    {
      "cell_type": "code",
      "source": [
        "# continue statement in while loop\n",
        "i = 0\n",
        "while i in range(10):\n",
        "    i = i+1\n",
        "    if i == 11:\n",
        "      continue\n",
        "    print(i)\n",
        "else:\n",
        "    print(\"Number is out of range\")"
      ],
      "metadata": {
        "colab": {
          "base_uri": "https://localhost:8080/"
        },
        "id": "xF23hO-5XBTj",
        "outputId": "58d6a56f-c4aa-4f5d-b777-d5587aed82e9"
      },
      "execution_count": null,
      "outputs": [
        {
          "output_type": "stream",
          "name": "stdout",
          "text": [
            "1\n",
            "2\n",
            "3\n",
            "4\n",
            "5\n",
            "6\n",
            "7\n",
            "8\n",
            "9\n",
            "10\n",
            "Number is out of range\n"
          ]
        }
      ]
    },
    {
      "cell_type": "code",
      "source": [
        "# break statement in for loop\n",
        "for i in range(10):\n",
        "  if i == 5:\n",
        "    break # break the loop when it reaches 5\n",
        "  print(i)\n",
        " # break statement in for loop\n",
        "for i in range(10):\n",
        "  if i == 5:\n",
        "    continue # skip printing and go to the next number\n",
        "  print(i)\n",
        "  # pass statement in for loop\n",
        "for i in range(10):\n",
        "  if i == 5:\n",
        "    pass # pass is a placeholder which does nothing\n",
        "  print(i)"
      ],
      "metadata": {
        "colab": {
          "base_uri": "https://localhost:8080/"
        },
        "id": "MuNyeG2uU8iE",
        "outputId": "b149f627-3756-40b1-ffb1-23e3e5c48bf0"
      },
      "execution_count": null,
      "outputs": [
        {
          "output_type": "stream",
          "name": "stdout",
          "text": [
            "0\n",
            "1\n",
            "2\n",
            "3\n",
            "4\n",
            "0\n",
            "1\n",
            "2\n",
            "3\n",
            "4\n",
            "6\n",
            "7\n",
            "8\n",
            "9\n",
            "0\n",
            "1\n",
            "2\n",
            "3\n",
            "4\n",
            "5\n",
            "6\n",
            "7\n",
            "8\n",
            "9\n"
          ]
        }
      ]
    },
    {
      "cell_type": "markdown",
      "source": [
        "Learning about functions"
      ],
      "metadata": {
        "id": "HfTSfwZF142Q"
      }
    },
    {
      "cell_type": "code",
      "source": [
        "#defining a function\n",
        "def first_funct():\n",
        "  print('We did it!')\n",
        "# calling a function\n",
        "first_funct()"
      ],
      "metadata": {
        "colab": {
          "base_uri": "https://localhost:8080/"
        },
        "id": "Jbdlfogb19KN",
        "outputId": "6f5d5982-fd7a-49dc-841b-61101285daba"
      },
      "execution_count": 2,
      "outputs": [
        {
          "output_type": "stream",
          "name": "stdout",
          "text": [
            "We did it!\n"
          ]
        }
      ]
    },
    {
      "cell_type": "code",
      "source": [
        "# passing an argument into the function\n",
        "def square_root(number):\n",
        "  print(number**2)"
      ],
      "metadata": {
        "id": "rzh9HL7r3IYz"
      },
      "execution_count": 3,
      "outputs": []
    },
    {
      "cell_type": "code",
      "source": [
        "#calling the function\n",
        "square_root(5)"
      ],
      "metadata": {
        "colab": {
          "base_uri": "https://localhost:8080/"
        },
        "id": "illnYWRT3wFA",
        "outputId": "cb6446bf-f3d9-4bcf-b9f7-a079e8a1e74d"
      },
      "execution_count": 4,
      "outputs": [
        {
          "output_type": "stream",
          "name": "stdout",
          "text": [
            "25\n"
          ]
        }
      ]
    },
    {
      "cell_type": "code",
      "source": [
        "# passing multiple arguments into the function\n",
        "def square_root_custom(number,power):\n",
        "  print(number**power)"
      ],
      "metadata": {
        "id": "1vrkT2M84skj"
      },
      "execution_count": 5,
      "outputs": []
    },
    {
      "cell_type": "code",
      "source": [
        "#calling the function\n",
        "square_root_custom(5,3)"
      ],
      "metadata": {
        "colab": {
          "base_uri": "https://localhost:8080/"
        },
        "id": "rm5uRPBw4_DH",
        "outputId": "29e94465-481d-45c5-9455-c5bff24125fd"
      },
      "execution_count": 6,
      "outputs": [
        {
          "output_type": "stream",
          "name": "stdout",
          "text": [
            "125\n"
          ]
        }
      ]
    },
    {
      "cell_type": "code",
      "source": [
        "# arbituary functions\n",
        "args_tuple = (5,6,4,3,2)\n",
        "def num_args(*number):\n",
        "  print(number[0]*number[1])"
      ],
      "metadata": {
        "id": "BOS0HksO6WeX"
      },
      "execution_count": 12,
      "outputs": []
    },
    {
      "cell_type": "code",
      "source": [
        "#calling the function\n",
        "num_args(*args_tuple) #these are both ways to call the function\n",
        "num_args(5,6,4,3,2)"
      ],
      "metadata": {
        "colab": {
          "base_uri": "https://localhost:8080/"
        },
        "id": "D99ozBpW6tVN",
        "outputId": "23551ee3-beae-448c-f6a0-6cd0c8cea5e9"
      },
      "execution_count": 16,
      "outputs": [
        {
          "output_type": "stream",
          "name": "stdout",
          "text": [
            "30\n",
            "30\n"
          ]
        }
      ]
    },
    {
      "cell_type": "code",
      "source": [
        "#keyword argument function\n",
        "def square_root_custom(number,power):\n",
        "  print(number**power)"
      ],
      "metadata": {
        "id": "ikEqwr-r8MC_"
      },
      "execution_count": 18,
      "outputs": []
    },
    {
      "cell_type": "code",
      "source": [
        "#calling the function\n",
        "square_root_custom(power = 5,number = 3)"
      ],
      "metadata": {
        "colab": {
          "base_uri": "https://localhost:8080/"
        },
        "id": "DcEuM4Qm8OXW",
        "outputId": "24c997b7-ed77-41da-a7e4-0f111d718239"
      },
      "execution_count": 19,
      "outputs": [
        {
          "output_type": "stream",
          "name": "stdout",
          "text": [
            "243\n"
          ]
        }
      ]
    },
    {
      "cell_type": "code",
      "source": [
        "# arbitary keyword arguments functions\n",
        "def number_kwargs(**number):\n",
        "  print('My number is :'+ number['integer'], 'My other number is:'+number['integer2'])"
      ],
      "metadata": {
        "id": "UI54Kdg39W0m"
      },
      "execution_count": 22,
      "outputs": []
    },
    {
      "cell_type": "code",
      "source": [
        "#calling function\n",
        "number_kwargs(integer = '2309', integer2 = '368')"
      ],
      "metadata": {
        "colab": {
          "base_uri": "https://localhost:8080/"
        },
        "id": "Hn9rQQKk9tjs",
        "outputId": "23596c03-1005-430f-d42f-76d663014e7a"
      },
      "execution_count": 23,
      "outputs": [
        {
          "output_type": "stream",
          "name": "stdout",
          "text": [
            "My number is :2309 My other number is:368\n"
          ]
        }
      ]
    },
    {
      "cell_type": "markdown",
      "source": [
        "Function practice done in class"
      ],
      "metadata": {
        "id": "vMh1HAiU-lPX"
      }
    },
    {
      "cell_type": "code",
      "source": [
        "# defining a function\n",
        "def greet():\n",
        "  print('Hello! welcome to our python class.')"
      ],
      "metadata": {
        "id": "Ch4kG3sb-p8y"
      },
      "execution_count": 24,
      "outputs": []
    },
    {
      "cell_type": "code",
      "source": [
        "#function syntax\n",
        "def add(a,b):\n",
        "  print(a+b)"
      ],
      "metadata": {
        "id": "Tdc6wFvw-3m3"
      },
      "execution_count": 28,
      "outputs": []
    },
    {
      "cell_type": "code",
      "source": [
        "#callint the functions\n",
        "greet()\n",
        "results = add(4,5)\n",
        "print(results)"
      ],
      "metadata": {
        "colab": {
          "base_uri": "https://localhost:8080/"
        },
        "id": "9OhQ_G85_CHI",
        "outputId": "21185344-b96b-47ba-8c0b-f6f505d843ad"
      },
      "execution_count": 29,
      "outputs": [
        {
          "output_type": "stream",
          "name": "stdout",
          "text": [
            "Hello! welcome to our python class.\n",
            "9\n",
            "None\n"
          ]
        }
      ]
    },
    {
      "cell_type": "code",
      "source": [
        "# a new function t0 introduce yourself\n",
        "def introduction(name,age):\n",
        "  print(f\"My name is {name} and i am {age} years old\")"
      ],
      "metadata": {
        "id": "0w4eG3YCRD19"
      },
      "execution_count": 30,
      "outputs": []
    },
    {
      "cell_type": "code",
      "source": [
        "#calling the function\n",
        "introduction(\"Aroosa\",24)"
      ],
      "metadata": {
        "colab": {
          "base_uri": "https://localhost:8080/"
        },
        "id": "zL4IXDGPRY6F",
        "outputId": "c3f72461-9cf9-4621-87c6-aebc8c17e447"
      },
      "execution_count": 33,
      "outputs": [
        {
          "output_type": "stream",
          "name": "stdout",
          "text": [
            "My name is Aroosa and i am 24 years old\n"
          ]
        }
      ]
    },
    {
      "cell_type": "code",
      "source": [
        "#return statement\n",
        "def square(x):\n",
        " print(x*x)"
      ],
      "metadata": {
        "id": "g2--N-AzRsIL"
      },
      "execution_count": 39,
      "outputs": []
    },
    {
      "cell_type": "code",
      "source": [
        "#calling the function\n",
        "square(6)"
      ],
      "metadata": {
        "colab": {
          "base_uri": "https://localhost:8080/"
        },
        "id": "eq633eUMSIW8",
        "outputId": "ecc1f274-2dee-4143-98fd-d914e533f0b8"
      },
      "execution_count": 41,
      "outputs": [
        {
          "output_type": "stream",
          "name": "stdout",
          "text": [
            "36\n"
          ]
        }
      ]
    },
    {
      "cell_type": "code",
      "source": [
        "#print inside function\n",
        "def test_scope():\n",
        "    x = 10\n",
        "    print(\"Inside function:\", x)\n",
        "\n",
        "test_scope()"
      ],
      "metadata": {
        "colab": {
          "base_uri": "https://localhost:8080/"
        },
        "id": "XkDlZSZASVuE",
        "outputId": "76bb423a-5997-47fd-f6a4-e8e8672f962b"
      },
      "execution_count": 42,
      "outputs": [
        {
          "output_type": "stream",
          "name": "stdout",
          "text": [
            "Inside function: 10\n"
          ]
        }
      ]
    },
    {
      "cell_type": "code",
      "source": [
        "#global variable and local variable\n",
        "global_var = \"I am a global variable\"\n",
        "def check_scope():\n",
        "  local_var = \"I am a local variable\"\n",
        "  print(global_var)\n",
        "  print(local_var)\n",
        "check_scope()"
      ],
      "metadata": {
        "colab": {
          "base_uri": "https://localhost:8080/"
        },
        "id": "DNtk2QLFSiRP",
        "outputId": "3e1ea802-9401-4082-e05f-a503d395caa2"
      },
      "execution_count": 45,
      "outputs": [
        {
          "output_type": "stream",
          "name": "stdout",
          "text": [
            "I am a global variable\n",
            "I am a local variable\n"
          ]
        }
      ]
    },
    {
      "cell_type": "code",
      "source": [
        "#user defined functions\n",
        "def multiply(x,y):\n",
        "  return x*y\n",
        "  #print(x*y)\n",
        "#calling the function\n",
        "multiply(5,10)"
      ],
      "metadata": {
        "colab": {
          "base_uri": "https://localhost:8080/"
        },
        "id": "_2gQyQIvS3dV",
        "outputId": "d9d5b8f2-6c7c-4cfc-dcd0-dc9fd02db2c5"
      },
      "execution_count": 47,
      "outputs": [
        {
          "output_type": "execute_result",
          "data": {
            "text/plain": [
              "50"
            ]
          },
          "metadata": {},
          "execution_count": 47
        }
      ]
    },
    {
      "cell_type": "code",
      "source": [
        "#default arguments functions\n",
        "def greet_user(name = \"guest\"):\n",
        "  print(f\"Hello, {name}\")\n",
        "#calling function\n",
        "greet_user(\"Aroosa Nasir\")\n",
        "greet_user()"
      ],
      "metadata": {
        "colab": {
          "base_uri": "https://localhost:8080/"
        },
        "id": "uewLGLBiTlXj",
        "outputId": "2a8af8d4-27f3-4cea-a635-21d95d60d5a1"
      },
      "execution_count": 48,
      "outputs": [
        {
          "output_type": "stream",
          "name": "stdout",
          "text": [
            "Hello, Aroosa Nasir\n",
            "Hello, guest\n"
          ]
        }
      ]
    }
  ]
}