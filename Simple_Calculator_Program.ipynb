{
  "nbformat": 4,
  "nbformat_minor": 0,
  "metadata": {
    "colab": {
      "provenance": [],
      "authorship_tag": "ABX9TyOBYDPnpP+zI2Xfks4JO7E8",
      "include_colab_link": true
    },
    "kernelspec": {
      "name": "python3",
      "display_name": "Python 3"
    },
    "language_info": {
      "name": "python"
    }
  },
  "cells": [
    {
      "cell_type": "markdown",
      "metadata": {
        "id": "view-in-github",
        "colab_type": "text"
      },
      "source": [
        "<a href=\"https://colab.research.google.com/github/aroosax/Python/blob/main/Simple_Calculator_Program.ipynb\" target=\"_parent\"><img src=\"https://colab.research.google.com/assets/colab-badge.svg\" alt=\"Open In Colab\"/></a>"
      ]
    },
    {
      "cell_type": "markdown",
      "source": [
        "Simple calculator Program"
      ],
      "metadata": {
        "id": "fio7q0EgvzWW"
      }
    },
    {
      "cell_type": "code",
      "execution_count": 2,
      "metadata": {
        "colab": {
          "base_uri": "https://localhost:8080/"
        },
        "id": "S65Bq8zzvM8R",
        "outputId": "2dfadc61-ed52-40e4-a22c-b415162790cc"
      },
      "outputs": [
        {
          "output_type": "stream",
          "name": "stdout",
          "text": [
            "Enter number 1:2\n",
            "Enter numbr 2:4\n",
            "Enter the operator(+, -, *, /):*\n",
            "Result: 8\n"
          ]
        }
      ],
      "source": [
        "\"\"\" this program Asks user for two numbers and an operation (+, -, *, /). conditions are used  to perform the\n",
        "correct calculation.\"\"\"\n",
        "#Concepts Used: input(), int(), if-elif-else\n",
        "num1 = int(input(\"Enter number 1:\"))\n",
        "num2 = int(input(\"Enter numbr 2:\"))\n",
        "operation = input(\"Enter the operator(+, -, *, /):\")\n",
        "if operation == \"+\":\n",
        "    print(\"Result:\",num1+num2)\n",
        "elif operation == \"-\":\n",
        "    print(\"Result:\",num1-num2)\n",
        "elif operation == \"*\":\n",
        "    print(\"Result:\",num1*num2)\n",
        "elif operation == \"/\":\n",
        "    if num2 != 0:\n",
        "      print(\"Result:\",num1/num2)\n",
        "    else:\n",
        "      print(\"Cannot divide by 0\")\n",
        "else:\n",
        "      print(\"Invalid operator\")"
      ]
    }
  ]
}