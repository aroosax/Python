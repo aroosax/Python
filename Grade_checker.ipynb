{
  "nbformat": 4,
  "nbformat_minor": 0,
  "metadata": {
    "colab": {
      "provenance": [],
      "authorship_tag": "ABX9TyPXsp6RIC/QunEsP5JS3XgN",
      "include_colab_link": true
    },
    "kernelspec": {
      "name": "python3",
      "display_name": "Python 3"
    },
    "language_info": {
      "name": "python"
    }
  },
  "cells": [
    {
      "cell_type": "markdown",
      "metadata": {
        "id": "view-in-github",
        "colab_type": "text"
      },
      "source": [
        "<a href=\"https://colab.research.google.com/github/aroosax/Python/blob/main/Grade_checker.ipynb\" target=\"_parent\"><img src=\"https://colab.research.google.com/assets/colab-badge.svg\" alt=\"Open In Colab\"/></a>"
      ]
    },
    {
      "cell_type": "markdown",
      "source": [
        "Grade Checker Program"
      ],
      "metadata": {
        "id": "Mvt5YK6t0JUm"
      }
    },
    {
      "cell_type": "code",
      "execution_count": 2,
      "metadata": {
        "colab": {
          "base_uri": "https://localhost:8080/"
        },
        "id": "nKoP8N960GVL",
        "outputId": "d010e1f1-5a59-4787-e1d1-bab916d71e36"
      },
      "outputs": [
        {
          "output_type": "stream",
          "name": "stdout",
          "text": [
            "Enter your test score between 1-100 :75\n",
            "Your Grade is C\n"
          ]
        }
      ],
      "source": [
        "\"\"\"Description: This program asks user for a test score (0-100) and print the grade: A (90+), B (80-89), C (70-79), etc.\n",
        "Concepts Used: if-elif-else\"\"\"\n",
        "\n",
        "test_score = int(input(\"Enter your test score between 1-100 :\"))\n",
        "if test_score >= 90:\n",
        "  print(\"Your Grade is A\")\n",
        "elif test_score >= 80:\n",
        "  print(\"Your Grade is B\")\n",
        "elif test_score >= 70:\n",
        "  print(\"Your Grade is C\")\n",
        "elif test_score >= 50:\n",
        "  print(\"Your Grade is D\")\n",
        "else:\n",
        "  print(\"Your Grade is F\")"
      ]
    }
  ]
}