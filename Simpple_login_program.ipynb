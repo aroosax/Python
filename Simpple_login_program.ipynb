{
  "nbformat": 4,
  "nbformat_minor": 0,
  "metadata": {
    "colab": {
      "provenance": [],
      "authorship_tag": "ABX9TyNVc/HrTaFhszb8rE3T3IDF",
      "include_colab_link": true
    },
    "kernelspec": {
      "name": "python3",
      "display_name": "Python 3"
    },
    "language_info": {
      "name": "python"
    }
  },
  "cells": [
    {
      "cell_type": "markdown",
      "metadata": {
        "id": "view-in-github",
        "colab_type": "text"
      },
      "source": [
        "<a href=\"https://colab.research.google.com/github/aroosax/Python/blob/main/Simpple_login_program.ipynb\" target=\"_parent\"><img src=\"https://colab.research.google.com/assets/colab-badge.svg\" alt=\"Open In Colab\"/></a>"
      ]
    },
    {
      "cell_type": "markdown",
      "source": [
        "Simple Login Program"
      ],
      "metadata": {
        "id": "lGTjquNq3XmZ"
      }
    },
    {
      "cell_type": "code",
      "execution_count": 2,
      "metadata": {
        "colab": {
          "base_uri": "https://localhost:8080/"
        },
        "id": "0478Duvl3Nih",
        "outputId": "7b45ae04-56e5-41cf-b8cc-f1278b9da98f"
      },
      "outputs": [
        {
          "output_type": "stream",
          "name": "stdout",
          "text": [
            "Enter your username:aroosa\n",
            "Enter your password:12\n",
            "Login failed!\n"
          ]
        }
      ],
      "source": [
        "\"\"\"Description: This program stores a username and password in the script. Ask the user to input them and check if\n",
        "both match.\n",
        "Concepts Used: if-else, strings\"\"\"\n",
        "\n",
        "stored_username = \"aroosa755\"\n",
        "stored_password = 5862\n",
        "\n",
        "username = str(input(\"Enter your username:\"))\n",
        "password = int(input(\"Enter your password:\"))\n",
        "\n",
        "if stored_username == username and stored_password == password:\n",
        "  print(\"Login Successfull!\")\n",
        "else:\n",
        "  print(\"Login failed!\")"
      ]
    }
  ]
}